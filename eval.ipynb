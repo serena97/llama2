{
 "cells": [
  {
   "cell_type": "code",
   "execution_count": 2,
   "metadata": {},
   "outputs": [
    {
     "name": "stderr",
     "output_type": "stream",
     "text": [
      "/Users/serena/miniconda3/envs/llama2_env/lib/python3.12/site-packages/tqdm/auto.py:21: TqdmWarning: IProgress not found. Please update jupyter and ipywidgets. See https://ipywidgets.readthedocs.io/en/stable/user_install.html\n",
      "  from .autonotebook import tqdm as notebook_tqdm\n",
      "Loading checkpoint shards: 100%|██████████| 3/3 [00:04<00:00,  1.58s/it]\n"
     ]
    }
   ],
   "source": [
    "# pip3 install --pre torch torchvision torchaudio --index-url https://download.pytorch.org/whl/nightly/cpu\n",
    "import transformers as t\n",
    "import torch\n",
    "import peft\n",
    "import time\n",
    "model_dir = \"./llama/llama-2-7b-chat-hf\"\n",
    "\n",
    "tokenizer = t.AutoTokenizer.from_pretrained(model_dir)\n",
    "model = t.AutoModelForCausalLM.from_pretrained(model_dir)\n"
   ]
  },
  {
   "cell_type": "code",
   "execution_count": 13,
   "metadata": {},
   "outputs": [],
   "source": [
    "import safetensors\n",
    "\n",
    "pt_state_dict = safetensors.torch.load_file(\"./trained/llama-2-7b-chat-hf/mt0-large-lora/checkpoint-43/adapter_model.safetensors\")\n",
    "torch.save(pt_state_dict, \"adapter_model.bin\")\n"
   ]
  },
  {
   "cell_type": "code",
   "execution_count": 3,
   "metadata": {},
   "outputs": [
    {
     "name": "stdout",
     "output_type": "stream",
     "text": [
      "device mps\n"
     ]
    }
   ],
   "source": [
    "tokenizer.pad_token_id = 0\n",
    "config = peft.LoraConfig(r=8, lora_alpha=16, target_modules=[\"q_proj\", \"v_proj\"], lora_dropout=0.005, bias=\"none\", task_type=\"CAUSAL_LM\")\n",
    "model = peft.get_peft_model(model, config)\n",
    "peft.set_peft_model_state_dict(model, torch.load(\"./adapter_model.bin\"))\n",
    "device = torch.device('cuda' if torch.cuda.is_available() else 'mps' if torch.backends.mps.is_available() else 'cpu')\n",
    "model = model.to(device)\n",
    "print('device', device)"
   ]
  },
  {
   "cell_type": "code",
   "execution_count": 4,
   "metadata": {},
   "outputs": [
    {
     "name": "stderr",
     "output_type": "stream",
     "text": [
      "The model 'PeftModelForCausalLM' is not supported for text-generation. Supported models are ['BartForCausalLM', 'BertLMHeadModel', 'BertGenerationDecoder', 'BigBirdForCausalLM', 'BigBirdPegasusForCausalLM', 'BioGptForCausalLM', 'BlenderbotForCausalLM', 'BlenderbotSmallForCausalLM', 'BloomForCausalLM', 'CamembertForCausalLM', 'LlamaForCausalLM', 'CodeGenForCausalLM', 'CpmAntForCausalLM', 'CTRLLMHeadModel', 'Data2VecTextForCausalLM', 'ElectraForCausalLM', 'ErnieForCausalLM', 'FalconForCausalLM', 'FuyuForCausalLM', 'GitForCausalLM', 'GPT2LMHeadModel', 'GPT2LMHeadModel', 'GPTBigCodeForCausalLM', 'GPTNeoForCausalLM', 'GPTNeoXForCausalLM', 'GPTNeoXJapaneseForCausalLM', 'GPTJForCausalLM', 'LlamaForCausalLM', 'MarianForCausalLM', 'MBartForCausalLM', 'MegaForCausalLM', 'MegatronBertForCausalLM', 'MistralForCausalLM', 'MixtralForCausalLM', 'MptForCausalLM', 'MusicgenForCausalLM', 'MvpForCausalLM', 'OpenLlamaForCausalLM', 'OpenAIGPTLMHeadModel', 'OPTForCausalLM', 'PegasusForCausalLM', 'PersimmonForCausalLM', 'PhiForCausalLM', 'PLBartForCausalLM', 'ProphetNetForCausalLM', 'QDQBertLMHeadModel', 'Qwen2ForCausalLM', 'ReformerModelWithLMHead', 'RemBertForCausalLM', 'RobertaForCausalLM', 'RobertaPreLayerNormForCausalLM', 'RoCBertForCausalLM', 'RoFormerForCausalLM', 'RwkvForCausalLM', 'Speech2Text2ForCausalLM', 'TransfoXLLMHeadModel', 'TrOCRForCausalLM', 'WhisperForCausalLM', 'XGLMForCausalLM', 'XLMWithLMHeadModel', 'XLMProphetNetForCausalLM', 'XLMRobertaForCausalLM', 'XLMRobertaXLForCausalLM', 'XLNetLMHeadModel', 'XmodForCausalLM'].\n",
      "Setting `pad_token_id` to `eos_token_id`:2 for open-end generation.\n"
     ]
    },
    {
     "name": "stdout",
     "output_type": "stream",
     "text": [
      "pipe(prompt) [{'generated_text': 'How do I know if I have ADHD or autism?\\n<h2>How Do I Know If I Have ADHD or Autism?</h2>\\n\\nIf you are concerned about your mental health, it is essential to consult with a qualified healthcare professional. They can provide a proper evaluation and diagnosis based on your symptoms and medical history. Here are some signs that may indicate ADHD or autism:\\n\\n1. Difficulty paying attention: If you find it challenging to focus on tasks, follow instructions, or complete tasks, you may have ADHD.\\n\\n2. Impulsivity: If you often act without thinking, interrupt others, or have difficulty waiting for your turn, you may have ADHD.\\n\\n3. Hyperactivity: If you feel restless, fidgety, or have a lot of energy, you may have ADHD.\\n\\n4. Difficulty with social interactions: If'}]\n"
     ]
    }
   ],
   "source": [
    "# TEMPLATE = \"Below is an instruction that describes a task, paired with an input that provides further context. Write a response that appropriately completes the request.\\n\\n### Instruction:\\n{instruction}\\n\\n### Response:\\n\"\n",
    "# INSTRUCTION = \"Python how to insert something at the beginning of a list?\"\n",
    "prompt = 'How do I know if I have ADHD or autism?'\n",
    "pipe = t.pipeline(task=\"text-generation\", model=model, tokenizer=tokenizer, max_length=200, device='mps')\n",
    "print(\"pipe(prompt)\", pipe(prompt))"
   ]
  }
 ],
 "metadata": {
  "kernelspec": {
   "display_name": "Python 3",
   "language": "python",
   "name": "python3"
  },
  "language_info": {
   "codemirror_mode": {
    "name": "ipython",
    "version": 3
   },
   "file_extension": ".py",
   "mimetype": "text/x-python",
   "name": "python",
   "nbconvert_exporter": "python",
   "pygments_lexer": "ipython3",
   "version": "3.12.1"
  },
  "orig_nbformat": 4
 },
 "nbformat": 4,
 "nbformat_minor": 2
}
